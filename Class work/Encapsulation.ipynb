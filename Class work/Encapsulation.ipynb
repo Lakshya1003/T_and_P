{
 "cells": [
  {
   "cell_type": "markdown",
   "id": "69a3d636",
   "metadata": {},
   "source": [
    "Encapsulation : Binding attributes and methods into a Single unit.\n",
    "\n",
    "    Access modifiers :\n",
    "        Public , Private , Protected , Default{Python doesnt use it}\n",
    "\n",
    "        Public : A method or attribute can be use by anyone\n",
    "        Private : A method or attribute can be use by Class members only\n",
    "        Protected : A method or attribute can be use by child class\n",
    "\n",
    "\n",
    "    Public :\n",
    "      a = 10\n",
    "      city = \"Bhopal\"\n",
    "\n",
    "    Private :\n",
    "      _a = 100\n",
    "      _city = \"Indore\"\n",
    "\n",
    "    Protected : \n",
    "      __a = 600\n",
    "      __city = \"Jabalpur\""
   ]
  },
  {
   "cell_type": "code",
   "execution_count": null,
   "id": "deb9c583",
   "metadata": {},
   "outputs": [],
   "source": []
  }
 ],
 "metadata": {
  "kernelspec": {
   "display_name": "Python 3",
   "language": "python",
   "name": "python3"
  },
  "language_info": {
   "name": "python",
   "version": "3.13.3"
  }
 },
 "nbformat": 4,
 "nbformat_minor": 5
}
