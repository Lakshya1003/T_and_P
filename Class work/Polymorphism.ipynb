{
 "cells": [
  {
   "cell_type": "markdown",
   "id": "e4ce8981",
   "metadata": {},
   "source": [
    "POLYMORPHISM :\n",
    "    POLY : Many\n",
    "    MORPHISM : Forms\n",
    "\n",
    "Change of behaviour of a function on diffenent data as a input\n",
    "\n",
    "Types of polymorphism:\n",
    "  1.Overloading\n",
    "  2.Overriding\n",
    "\n",
    "\n",
    "  method OVERLOADING -> compile time overloading\n",
    "  method OVERIDING -> runtime overriding\n",
    "\n",
    "\n",
    "\n",
    "  Python always interpret ; \"SO COMPILE_TIME OVERLOADING IS NOT POSSIBBLE.\"\n",
    "\n"
   ]
  },
  {
   "cell_type": "code",
   "execution_count": null,
   "id": "b2595b47",
   "metadata": {},
   "outputs": [],
   "source": [
    "class Product:\n",
    "  Cmp = \"AMAZON\"\n",
    "  a = 52\n",
    "  a = 50\n",
    "  def show(self):\n",
    "    print(\"1\")\n",
    "  def show(self,a=20):\n",
    "    print(\"2\")\n",
    "\n",
    "  def show(self,x,a=100):\n",
    "    print(\"3\")\n",
    "\n",
    "class Purchase(Product):\n",
    "  newCmp = \"Myntra\"\n",
    "\n",
    "obj = Product()\n",
    "obj.show(99)"
   ]
  },
  {
   "cell_type": "code",
   "execution_count": null,
   "id": "31e333c1",
   "metadata": {},
   "outputs": [],
   "source": [
    "class Product:\n",
    "  Cmp = \"AMAZON\"\n",
    "  a = 52\n",
    "  a = 50\n",
    "  def show(self):\n",
    "    print(\"1\")\n",
    "  def show(self,a=20):\n",
    "    print(\"2\")\n",
    "\n",
    "  def show(self,x,a=100):\n",
    "    print(\"3\")\n",
    "\n",
    "class Purchase(Product):\n",
    "  newCmp = \"Myntra\"\n",
    "  def show(self,a=10):\n",
    "    print(a)\n",
    "\n",
    "obj = Purchase()\n",
    "obj.show(99)\n"
   ]
  },
  {
   "cell_type": "markdown",
   "id": "57b102ad",
   "metadata": {},
   "source": [
    "Decorator , Generator , Seperator , Operator , Iterator , Constructor , Destructor\n",
    "\n",
    "Classmethod / Staticmethod\n",
    "\n",
    "Decorator = The method or the process to add the features / functions to the attribute or class or method.{Method ki existing functionalites ko change krta hai ya fir Enhance krta hai}\n",
    "\n",
    "Destructor = Their is no concept of Destructor in python, because python have a Automatic Memory Management."
   ]
  }
 ],
 "metadata": {
  "kernelspec": {
   "display_name": "Python 3",
   "language": "python",
   "name": "python3"
  },
  "language_info": {
   "codemirror_mode": {
    "name": "ipython",
    "version": 3
   },
   "file_extension": ".py",
   "mimetype": "text/x-python",
   "name": "python",
   "nbconvert_exporter": "python",
   "pygments_lexer": "ipython3",
   "version": "3.13.3"
  }
 },
 "nbformat": 4,
 "nbformat_minor": 5
}
